{
 "cells": [
  {
   "cell_type": "markdown",
   "id": "ce9aa02a-8ed7-44f0-8d3d-817102f48f53",
   "metadata": {},
   "source": [
    "# Cálculo de Km Média de Carros"
   ]
  },
  {
   "cell_type": "markdown",
   "id": "e72085d1-b88a-4b7a-87fc-415d35f2adc1",
   "metadata": {},
   "source": [
    "## Fórmula\n",
    "\n",
    "$$km_{media}=\\frac{km_{total}}{Ano_{atual}-Ano_{fabicracao}}$$"
   ]
  },
  {
   "cell_type": "markdown",
   "id": "373c6269-f38d-4bda-a3bc-f68cfff538f5",
   "metadata": {},
   "source": [
    "## Imports"
   ]
  },
  {
   "cell_type": "code",
   "execution_count": 1,
   "id": "73626743-c16b-4667-9104-457c1b5bac6f",
   "metadata": {},
   "outputs": [],
   "source": [
    "from pprint import pprint"
   ]
  },
  {
   "cell_type": "markdown",
   "id": "6ab3c59a-3da4-477e-8126-22beff446922",
   "metadata": {},
   "source": [
    "## Dados"
   ]
  },
  {
   "cell_type": "code",
   "execution_count": 2,
   "id": "20fd05d5-bc0d-4438-88fa-dbaa85718d6d",
   "metadata": {},
   "outputs": [],
   "source": [
    "ANO_ATUAL = 2023\n",
    "\n",
    "DADOS = {\n",
    "    'Crossfox': {'km': 35000, 'ano': 2005}, \n",
    "    'DS5': {'km': 17000, 'ano': 2015}, \n",
    "    'Fusca': {'km': 130000, 'ano': 1979}, \n",
    "    'Jetta': {'km': 56000, 'ano': 2011}, \n",
    "    'Passat': {'km': 62000, 'ano': 1999}\n",
    "}"
   ]
  },
  {
   "cell_type": "markdown",
   "id": "76957a7c-7250-498b-9881-1a02ccb0d897",
   "metadata": {},
   "source": [
    "## Funções"
   ]
  },
  {
   "cell_type": "code",
   "execution_count": 3,
   "id": "97f3174d-272b-473d-87f2-a0a521ee0b5c",
   "metadata": {},
   "outputs": [],
   "source": [
    "def mean_km(dataset, current_year):\n",
    "    means = {}\n",
    "    for entity in dataset.items():\n",
    "        car_name = entity[0]\n",
    "        car_total_km = entity[1]['km']\n",
    "        car_fab_year = entity[1]['ano']\n",
    "        \n",
    "        result = car_total_km / (current_year - car_fab_year)\n",
    "        result = round(result, 2)\n",
    "        \n",
    "        means[car_name] = result\n",
    "    return means"
   ]
  },
  {
   "cell_type": "markdown",
   "id": "6be0eca2-592a-454e-a479-ef573277f927",
   "metadata": {},
   "source": [
    "## Execução"
   ]
  },
  {
   "cell_type": "markdown",
   "id": "438ea10b-e72a-431d-a3b5-0b23b655c71f",
   "metadata": {},
   "source": [
    "### Usando `ANO_ATUAL`"
   ]
  },
  {
   "cell_type": "code",
   "execution_count": 4,
   "id": "00ab823a-cf48-4982-8748-0f8c6527f565",
   "metadata": {},
   "outputs": [
    {
     "name": "stdout",
     "output_type": "stream",
     "text": [
      "{'Crossfox': 1944.44,\n",
      " 'DS5': 2125.0,\n",
      " 'Fusca': 2954.55,\n",
      " 'Jetta': 4666.67,\n",
      " 'Passat': 2583.33}\n"
     ]
    }
   ],
   "source": [
    "pprint(mean_km(DADOS, ANO_ATUAL))"
   ]
  },
  {
   "cell_type": "markdown",
   "id": "69f9e87d-b320-49cb-b6ca-a09f8d809523",
   "metadata": {},
   "source": [
    "### Usando anos gerados dinamicamente"
   ]
  },
  {
   "cell_type": "code",
   "execution_count": 5,
   "id": "bae3c53b-adb7-4c63-bb2b-bbd59ebf2711",
   "metadata": {},
   "outputs": [
    {
     "name": "stdout",
     "output_type": "stream",
     "text": [
      "=== 2030 ===\n",
      "{'Crossfox': 1400.0,\n",
      " 'DS5': 1133.33,\n",
      " 'Fusca': 2549.02,\n",
      " 'Jetta': 2947.37,\n",
      " 'Passat': 2000.0}\n",
      "\n",
      "=== 2031 ===\n",
      "{'Crossfox': 1346.15,\n",
      " 'DS5': 1062.5,\n",
      " 'Fusca': 2500.0,\n",
      " 'Jetta': 2800.0,\n",
      " 'Passat': 1937.5}\n",
      "\n",
      "=== 2032 ===\n",
      "{'Crossfox': 1296.3,\n",
      " 'DS5': 1000.0,\n",
      " 'Fusca': 2452.83,\n",
      " 'Jetta': 2666.67,\n",
      " 'Passat': 1878.79}\n",
      "\n",
      "=== 2033 ===\n",
      "{'Crossfox': 1250.0,\n",
      " 'DS5': 944.44,\n",
      " 'Fusca': 2407.41,\n",
      " 'Jetta': 2545.45,\n",
      " 'Passat': 1823.53}\n",
      "\n",
      "=== 2034 ===\n",
      "{'Crossfox': 1206.9,\n",
      " 'DS5': 894.74,\n",
      " 'Fusca': 2363.64,\n",
      " 'Jetta': 2434.78,\n",
      " 'Passat': 1771.43}\n",
      "\n"
     ]
    }
   ],
   "source": [
    "INITIAL_YEAR = 2030\n",
    "YEAR_OFFSET = 5\n",
    "\n",
    "years = range(INITIAL_YEAR, INITIAL_YEAR + abs(YEAR_OFFSET))\n",
    "\n",
    "for year in years:\n",
    "    print(\"===\", year, \"===\")\n",
    "    pprint(mean_km(DADOS, year))\n",
    "    print()"
   ]
  }
 ],
 "metadata": {
  "kernelspec": {
   "display_name": "Python 3 (ipykernel)",
   "language": "python",
   "name": "python3"
  },
  "language_info": {
   "codemirror_mode": {
    "name": "ipython",
    "version": 3
   },
   "file_extension": ".py",
   "mimetype": "text/x-python",
   "name": "python",
   "nbconvert_exporter": "python",
   "pygments_lexer": "ipython3",
   "version": "3.11.2"
  }
 },
 "nbformat": 4,
 "nbformat_minor": 5
}
