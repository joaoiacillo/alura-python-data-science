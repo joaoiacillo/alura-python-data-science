{
 "cells": [
  {
   "cell_type": "markdown",
   "id": "ce9aa02a-8ed7-44f0-8d3d-817102f48f53",
   "metadata": {},
   "source": [
    "# Cálculo de Km Média de Carros"
   ]
  },
  {
   "cell_type": "markdown",
   "id": "6ab3c59a-3da4-477e-8126-22beff446922",
   "metadata": {},
   "source": [
    "## Dados"
   ]
  },
  {
   "cell_type": "code",
   "execution_count": 1,
   "id": "20fd05d5-bc0d-4438-88fa-dbaa85718d6d",
   "metadata": {},
   "outputs": [],
   "source": [
    "ANO_ATUAL = 2023\n",
    "\n",
    "DADOS = {\n",
    "    'Crossfox': {'km': 35000, 'ano': 2005}, \n",
    "    'DS5': {'km': 17000, 'ano': 2015}, \n",
    "    'Fusca': {'km': 130000, 'ano': 1979}, \n",
    "    'Jetta': {'km': 56000, 'ano': 2011}, \n",
    "    'Passat': {'km': 62000, 'ano': 1999}\n",
    "}"
   ]
  },
  {
   "cell_type": "markdown",
   "id": "76957a7c-7250-498b-9881-1a02ccb0d897",
   "metadata": {},
   "source": [
    "## Funções"
   ]
  },
  {
   "cell_type": "code",
   "execution_count": 2,
   "id": "97f3174d-272b-473d-87f2-a0a521ee0b5c",
   "metadata": {},
   "outputs": [],
   "source": [
    "def mean_km(dataset, current_year):\n",
    "    for entity in dataset.items():\n",
    "        car_total_km = entity[1]['km']\n",
    "        car_fab_year = entity[1]['ano']\n",
    "        result = car_total_km / (current_year - car_fab_year)\n",
    "        result = round(result, 2)\n",
    "        print(f'{entity[0]} ({car_fab_year}): {result}km')"
   ]
  },
  {
   "cell_type": "markdown",
   "id": "6be0eca2-592a-454e-a479-ef573277f927",
   "metadata": {},
   "source": [
    "## Execução"
   ]
  },
  {
   "cell_type": "markdown",
   "id": "438ea10b-e72a-431d-a3b5-0b23b655c71f",
   "metadata": {},
   "source": [
    "### Usando `ANO_ATUAL`"
   ]
  },
  {
   "cell_type": "code",
   "execution_count": 3,
   "id": "00ab823a-cf48-4982-8748-0f8c6527f565",
   "metadata": {},
   "outputs": [
    {
     "name": "stdout",
     "output_type": "stream",
     "text": [
      "Crossfox (2005): 1944.44km\n",
      "DS5 (2015): 2125.0km\n",
      "Fusca (1979): 2954.55km\n",
      "Jetta (2011): 4666.67km\n",
      "Passat (1999): 2583.33km\n",
      "None\n"
     ]
    }
   ],
   "source": [
    "print(mean_km(DADOS, ANO_ATUAL))"
   ]
  },
  {
   "cell_type": "markdown",
   "id": "69f9e87d-b320-49cb-b6ca-a09f8d809523",
   "metadata": {},
   "source": [
    "### Usando anos gerados dinamicamente"
   ]
  },
  {
   "cell_type": "code",
   "execution_count": 4,
   "id": "bae3c53b-adb7-4c63-bb2b-bbd59ebf2711",
   "metadata": {},
   "outputs": [
    {
     "name": "stdout",
     "output_type": "stream",
     "text": [
      "=== 2000 ===\n",
      "Crossfox (2005): -7000.0km\n",
      "DS5 (2015): -1133.33km\n",
      "Fusca (1979): 6190.48km\n",
      "Jetta (2011): -5090.91km\n",
      "Passat (1999): 62000.0km\n",
      "None\n",
      "\n",
      "=== 2001 ===\n",
      "Crossfox (2005): -8750.0km\n",
      "DS5 (2015): -1214.29km\n",
      "Fusca (1979): 5909.09km\n",
      "Jetta (2011): -5600.0km\n",
      "Passat (1999): 31000.0km\n",
      "None\n",
      "\n",
      "=== 2002 ===\n",
      "Crossfox (2005): -11666.67km\n",
      "DS5 (2015): -1307.69km\n",
      "Fusca (1979): 5652.17km\n",
      "Jetta (2011): -6222.22km\n",
      "Passat (1999): 20666.67km\n",
      "None\n",
      "\n",
      "=== 2003 ===\n",
      "Crossfox (2005): -17500.0km\n",
      "DS5 (2015): -1416.67km\n",
      "Fusca (1979): 5416.67km\n",
      "Jetta (2011): -7000.0km\n",
      "Passat (1999): 15500.0km\n",
      "None\n",
      "\n",
      "=== 2004 ===\n",
      "Crossfox (2005): -35000.0km\n",
      "DS5 (2015): -1545.45km\n",
      "Fusca (1979): 5200.0km\n",
      "Jetta (2011): -8000.0km\n",
      "Passat (1999): 12400.0km\n",
      "None\n",
      "\n"
     ]
    }
   ],
   "source": [
    "INITIAL_YEAR = 2000\n",
    "YEAR_OFFSET = 5\n",
    "\n",
    "years = range(2000, INITIAL_YEAR + abs(YEAR_OFFSET))\n",
    "\n",
    "for year in years:\n",
    "    print(\"===\", year, \"===\")\n",
    "    print(mean_km(DADOS, year), end='\\n'*2)"
   ]
  }
 ],
 "metadata": {
  "kernelspec": {
   "display_name": "Python 3 (ipykernel)",
   "language": "python",
   "name": "python3"
  },
  "language_info": {
   "codemirror_mode": {
    "name": "ipython",
    "version": 3
   },
   "file_extension": ".py",
   "mimetype": "text/x-python",
   "name": "python",
   "nbconvert_exporter": "python",
   "pygments_lexer": "ipython3",
   "version": "3.11.2"
  }
 },
 "nbformat": 4,
 "nbformat_minor": 5
}
