{
 "cells": [
  {
   "cell_type": "markdown",
   "id": "c85fe46f-c823-43e9-96d9-68876aff772d",
   "metadata": {},
   "source": [
    "# Pandas - Estruturas de Dados"
   ]
  },
  {
   "cell_type": "code",
   "execution_count": 1,
   "id": "9a9898f1-a8e0-4e8e-ba0c-7cb4cfddba2c",
   "metadata": {},
   "outputs": [],
   "source": [
    "import pandas as pd"
   ]
  },
  {
   "cell_type": "markdown",
   "id": "79b5b723-5eac-47cb-9e2e-27d1d64e3225",
   "metadata": {},
   "source": [
    "## Estrutura de Dados"
   ]
  },
  {
   "cell_type": "markdown",
   "id": "b91e3f1e-2253-40ae-98f0-a61ed7206f1c",
   "metadata": {},
   "source": [
    "### Series\n",
    "\n",
    "- Estruturas de dados similar a uma lista\n",
    "- Representa cada item por um índice (index)\n",
    "- Pode receber uma lista, dict, constante ou array Numpy.\n",
    "\n",
    "```python\n",
    "s = pd.Series(dados), index=index)\n",
    "```"
   ]
  },
  {
   "cell_type": "markdown",
   "id": "2bca6dd0-3143-4e04-881f-fd3040b11ae1",
   "metadata": {},
   "source": [
    "#### Criando a partir de uma lista"
   ]
  },
  {
   "cell_type": "code",
   "execution_count": 7,
   "id": "b1cce933-a809-4419-a4fb-b29b6d86529e",
   "metadata": {},
   "outputs": [
    {
     "data": {
      "text/plain": [
       "0    Jetta Variant\n",
       "1           Passat\n",
       "2         Crossfox\n",
       "dtype: object"
      ]
     },
     "execution_count": 7,
     "metadata": {},
     "output_type": "execute_result"
    }
   ],
   "source": [
    "carros = ['Jetta Variant', 'Passat', 'Crossfox']\n",
    "pd.Series(carros)"
   ]
  },
  {
   "cell_type": "code",
   "execution_count": 10,
   "id": "2439980d-1bf5-4882-a390-e628e10c1196",
   "metadata": {},
   "outputs": [
    {
     "data": {
      "text/plain": [
       "0    1\n",
       "1    2\n",
       "2    3\n",
       "dtype: int64"
      ]
     },
     "execution_count": 10,
     "metadata": {},
     "output_type": "execute_result"
    }
   ],
   "source": [
    "inteiros = [1, 2, 3]\n",
    "pd.Series(inteiros)"
   ]
  },
  {
   "cell_type": "code",
   "execution_count": 17,
   "id": "3a8d9eed-0b11-40ee-8876-7157adcecb3e",
   "metadata": {},
   "outputs": [
    {
     "data": {
      "text/plain": [
       "0     1.20\n",
       "1    30.00\n",
       "2     9.32\n",
       "dtype: float64"
      ]
     },
     "execution_count": 17,
     "metadata": {},
     "output_type": "execute_result"
    }
   ],
   "source": [
    "flutuantes = [1.2, 30, 9.32]\n",
    "pd.Series(flutuantes)"
   ]
  },
  {
   "cell_type": "code",
   "execution_count": 19,
   "id": "fc262928-3caa-47f1-97b4-97681cfd5a21",
   "metadata": {},
   "outputs": [
    {
     "data": {
      "text/plain": [
       "0      0    0\n",
       "1    1\n",
       "2    2\n",
       "3    3\n",
       "4    4\n",
       "dtype: int64\n",
       "1    0    0\n",
       "1    1\n",
       "2    2\n",
       "3    3\n",
       "4    4\n",
       "5    5\n",
       "6   ...\n",
       "2    0      0\n",
       "1      1\n",
       "2      2\n",
       "3      3\n",
       "4      4\n",
       "5...\n",
       "dtype: object"
      ]
     },
     "execution_count": 19,
     "metadata": {},
     "output_type": "execute_result"
    }
   ],
   "source": [
    "series = [pd.Series(range(5)), pd.Series(range(10)), pd.Series(range(15))]\n",
    "pd.Series(series)"
   ]
  },
  {
   "cell_type": "code",
   "execution_count": 24,
   "id": "7b92f752-d1c5-4b23-9fc1-8e523d36110a",
   "metadata": {},
   "outputs": [
    {
     "data": {
      "text/plain": [
       "0    [1, 2, 3]\n",
       "1    [4, 5, 6]\n",
       "2    [7, 8, 9]\n",
       "dtype: object"
      ]
     },
     "execution_count": 24,
     "metadata": {},
     "output_type": "execute_result"
    }
   ],
   "source": [
    "lists = [[1, 2, 3], [4, 5, 6], [7, 8, 9]]\n",
    "pd.Series(lists)"
   ]
  },
  {
   "cell_type": "markdown",
   "id": "7493acf7-0632-4377-9df3-3d65e8e053ce",
   "metadata": {},
   "source": [
    "#### Criando a partir de um `zip`"
   ]
  },
  {
   "cell_type": "code",
   "execution_count": 28,
   "id": "ad72e874-0d0a-4d44-be08-2da9349ff04b",
   "metadata": {},
   "outputs": [
    {
     "data": {
      "text/plain": [
       "0     (Roberto, 1998)\n",
       "1       (Carla, 1997)\n",
       "2        (José, 2000)\n",
       "3    (Marcilio, 1875)\n",
       "4      (Renata, 2015)\n",
       "dtype: object"
      ]
     },
     "execution_count": 28,
     "metadata": {},
     "output_type": "execute_result"
    }
   ],
   "source": [
    "names = ['Roberto', 'Carla', 'José', 'Marcilio', 'Renata']\n",
    "anos = [1998, 1997, 2000, 1875, 2015, 2005]\n",
    "zipped = zip(names, anos)\n",
    "pd.Series(zipped)"
   ]
  },
  {
   "cell_type": "markdown",
   "id": "59a10dfc-1ef3-442e-a158-3eac2028ba8f",
   "metadata": {},
   "source": [
    "### DataFrame\n",
    "\n",
    "- Estrutura de dados tabular\n",
    "- Rotula os itens através de linhas e colunas\n",
    "- Pode receber uma lista, dict, array Numpy, Series ou outro DataFrame."
   ]
  },
  {
   "cell_type": "markdown",
   "id": "7fe8d239-ed22-44b3-9d4f-25dafba58f70",
   "metadata": {},
   "source": [
    "#### Criando a partir de um dicionário"
   ]
  },
  {
   "cell_type": "code",
   "execution_count": 42,
   "id": "8044898a-ac67-4025-92d4-6c07e0a2f674",
   "metadata": {},
   "outputs": [],
   "source": [
    "dados = [\n",
    "    {'Nome': 'Jetta Variant', 'Motor': 'Motor 4.0 Turbo', 'Ano': 2003, 'Quilometragem': 44410.0, 'Zero_km': False, 'Valor': 88078.64},\n",
    "    {'Nome': 'Passat', 'Motor': 'Motor Diesel', 'Ano': 1991, 'Quilometragem': 5712.0, 'Zero_km': False, 'Valor': 106161.94},\n",
    "    {'Nome': 'Crossfox', 'Motor': 'Motor Diesel V8', 'Ano': 1990, 'Quilometragem': 37123.0, 'Zero_km': False, 'Valor': 72832.16}\n",
    "]"
   ]
  },
  {
   "cell_type": "code",
   "execution_count": 43,
   "id": "a7b3e2b7-478b-425e-8d8e-07fae3e049c5",
   "metadata": {},
   "outputs": [
    {
     "data": {
      "text/html": [
       "<div>\n",
       "<style scoped>\n",
       "    .dataframe tbody tr th:only-of-type {\n",
       "        vertical-align: middle;\n",
       "    }\n",
       "\n",
       "    .dataframe tbody tr th {\n",
       "        vertical-align: top;\n",
       "    }\n",
       "\n",
       "    .dataframe thead th {\n",
       "        text-align: right;\n",
       "    }\n",
       "</style>\n",
       "<table border=\"1\" class=\"dataframe\">\n",
       "  <thead>\n",
       "    <tr style=\"text-align: right;\">\n",
       "      <th></th>\n",
       "      <th>Nome</th>\n",
       "      <th>Motor</th>\n",
       "      <th>Ano</th>\n",
       "      <th>Quilometragem</th>\n",
       "      <th>Zero_km</th>\n",
       "      <th>Valor</th>\n",
       "    </tr>\n",
       "  </thead>\n",
       "  <tbody>\n",
       "    <tr>\n",
       "      <th>0</th>\n",
       "      <td>Jetta Variant</td>\n",
       "      <td>Motor 4.0 Turbo</td>\n",
       "      <td>2003</td>\n",
       "      <td>44410.0</td>\n",
       "      <td>False</td>\n",
       "      <td>88078.64</td>\n",
       "    </tr>\n",
       "    <tr>\n",
       "      <th>1</th>\n",
       "      <td>Passat</td>\n",
       "      <td>Motor Diesel</td>\n",
       "      <td>1991</td>\n",
       "      <td>5712.0</td>\n",
       "      <td>False</td>\n",
       "      <td>106161.94</td>\n",
       "    </tr>\n",
       "    <tr>\n",
       "      <th>2</th>\n",
       "      <td>Crossfox</td>\n",
       "      <td>Motor Diesel V8</td>\n",
       "      <td>1990</td>\n",
       "      <td>37123.0</td>\n",
       "      <td>False</td>\n",
       "      <td>72832.16</td>\n",
       "    </tr>\n",
       "  </tbody>\n",
       "</table>\n",
       "</div>"
      ],
      "text/plain": [
       "            Nome            Motor   Ano  Quilometragem  Zero_km      Valor\n",
       "0  Jetta Variant  Motor 4.0 Turbo  2003        44410.0    False   88078.64\n",
       "1         Passat     Motor Diesel  1991         5712.0    False  106161.94\n",
       "2       Crossfox  Motor Diesel V8  1990        37123.0    False   72832.16"
      ]
     },
     "execution_count": 43,
     "metadata": {},
     "output_type": "execute_result"
    }
   ],
   "source": [
    "dataframe = pd.DataFrame(dados)\n",
    "dataframe"
   ]
  },
  {
   "cell_type": "markdown",
   "id": "f97498bc-0079-4ddf-a774-d2e10c353b9f",
   "metadata": {},
   "source": [
    "#### Criando a partir de uma namedtuple"
   ]
  },
  {
   "cell_type": "code",
   "execution_count": 31,
   "id": "0c34df77-80ab-4c45-a013-5a4def8d8400",
   "metadata": {},
   "outputs": [],
   "source": [
    "from collections import namedtuple\n",
    "User = namedtuple('User', ['name', 'birthyear'])"
   ]
  },
  {
   "cell_type": "code",
   "execution_count": 41,
   "id": "f69f2d9d-e2a9-4ef1-b115-1e665839e4d5",
   "metadata": {},
   "outputs": [
    {
     "data": {
      "text/html": [
       "<div>\n",
       "<style scoped>\n",
       "    .dataframe tbody tr th:only-of-type {\n",
       "        vertical-align: middle;\n",
       "    }\n",
       "\n",
       "    .dataframe tbody tr th {\n",
       "        vertical-align: top;\n",
       "    }\n",
       "\n",
       "    .dataframe thead th {\n",
       "        text-align: right;\n",
       "    }\n",
       "</style>\n",
       "<table border=\"1\" class=\"dataframe\">\n",
       "  <thead>\n",
       "    <tr style=\"text-align: right;\">\n",
       "      <th></th>\n",
       "      <th>name</th>\n",
       "      <th>birthyear</th>\n",
       "    </tr>\n",
       "  </thead>\n",
       "  <tbody>\n",
       "    <tr>\n",
       "      <th>0</th>\n",
       "      <td>José</td>\n",
       "      <td>1875</td>\n",
       "    </tr>\n",
       "    <tr>\n",
       "      <th>1</th>\n",
       "      <td>Renata</td>\n",
       "      <td>2005</td>\n",
       "    </tr>\n",
       "  </tbody>\n",
       "</table>\n",
       "</div>"
      ],
      "text/plain": [
       "     name  birthyear\n",
       "0    José       1875\n",
       "1  Renata       2005"
      ]
     },
     "execution_count": 41,
     "metadata": {},
     "output_type": "execute_result"
    }
   ],
   "source": [
    "users = [User(name='José', birthyear=1875), User(name='Renata', birthyear=2005)]\n",
    "pd.DataFrame(users)"
   ]
  },
  {
   "cell_type": "markdown",
   "id": "f8b3e799-c4d0-4c7e-8cde-913254d9d984",
   "metadata": {},
   "source": [
    "### Modificando a a ordem das colunas"
   ]
  },
  {
   "cell_type": "code",
   "execution_count": 46,
   "id": "1e0694a1-c37b-4384-95ab-3dcfc9bce0c7",
   "metadata": {},
   "outputs": [
    {
     "data": {
      "text/html": [
       "<div>\n",
       "<style scoped>\n",
       "    .dataframe tbody tr th:only-of-type {\n",
       "        vertical-align: middle;\n",
       "    }\n",
       "\n",
       "    .dataframe tbody tr th {\n",
       "        vertical-align: top;\n",
       "    }\n",
       "\n",
       "    .dataframe thead th {\n",
       "        text-align: right;\n",
       "    }\n",
       "</style>\n",
       "<table border=\"1\" class=\"dataframe\">\n",
       "  <thead>\n",
       "    <tr style=\"text-align: right;\">\n",
       "      <th></th>\n",
       "      <th>Ano</th>\n",
       "      <th>Nome</th>\n",
       "      <th>Valor</th>\n",
       "      <th>Motor</th>\n",
       "      <th>Quilometragem</th>\n",
       "      <th>Zero_km</th>\n",
       "    </tr>\n",
       "  </thead>\n",
       "  <tbody>\n",
       "    <tr>\n",
       "      <th>0</th>\n",
       "      <td>2003</td>\n",
       "      <td>Jetta Variant</td>\n",
       "      <td>88078.64</td>\n",
       "      <td>Motor 4.0 Turbo</td>\n",
       "      <td>44410.0</td>\n",
       "      <td>False</td>\n",
       "    </tr>\n",
       "    <tr>\n",
       "      <th>1</th>\n",
       "      <td>1991</td>\n",
       "      <td>Passat</td>\n",
       "      <td>106161.94</td>\n",
       "      <td>Motor Diesel</td>\n",
       "      <td>5712.0</td>\n",
       "      <td>False</td>\n",
       "    </tr>\n",
       "    <tr>\n",
       "      <th>2</th>\n",
       "      <td>1990</td>\n",
       "      <td>Crossfox</td>\n",
       "      <td>72832.16</td>\n",
       "      <td>Motor Diesel V8</td>\n",
       "      <td>37123.0</td>\n",
       "      <td>False</td>\n",
       "    </tr>\n",
       "  </tbody>\n",
       "</table>\n",
       "</div>"
      ],
      "text/plain": [
       "    Ano           Nome      Valor            Motor  Quilometragem  Zero_km\n",
       "0  2003  Jetta Variant   88078.64  Motor 4.0 Turbo        44410.0    False\n",
       "1  1991         Passat  106161.94     Motor Diesel         5712.0    False\n",
       "2  1990       Crossfox   72832.16  Motor Diesel V8        37123.0    False"
      ]
     },
     "execution_count": 46,
     "metadata": {},
     "output_type": "execute_result"
    }
   ],
   "source": [
    "dataframe[['Ano', 'Nome', 'Valor', 'Motor', 'Quilometragem', 'Zero_km']]"
   ]
  },
  {
   "cell_type": "markdown",
   "id": "c207c551-3915-4b23-8a8d-28c9a6f97637",
   "metadata": {},
   "source": [
    "### Criando a partir de um arquivo externo"
   ]
  },
  {
   "cell_type": "code",
   "execution_count": 55,
   "id": "0ffabd7c-4a70-4c5f-8789-b1604e65f7bf",
   "metadata": {},
   "outputs": [
    {
     "data": {
      "text/html": [
       "<div>\n",
       "<style scoped>\n",
       "    .dataframe tbody tr th:only-of-type {\n",
       "        vertical-align: middle;\n",
       "    }\n",
       "\n",
       "    .dataframe tbody tr th {\n",
       "        vertical-align: top;\n",
       "    }\n",
       "\n",
       "    .dataframe thead th {\n",
       "        text-align: right;\n",
       "    }\n",
       "</style>\n",
       "<table border=\"1\" class=\"dataframe\">\n",
       "  <thead>\n",
       "    <tr style=\"text-align: right;\">\n",
       "      <th></th>\n",
       "      <th>Motor</th>\n",
       "      <th>Ano</th>\n",
       "      <th>Quilometragem</th>\n",
       "      <th>Zero_km</th>\n",
       "      <th>Acessórios</th>\n",
       "      <th>Valor</th>\n",
       "    </tr>\n",
       "    <tr>\n",
       "      <th>Nome</th>\n",
       "      <th></th>\n",
       "      <th></th>\n",
       "      <th></th>\n",
       "      <th></th>\n",
       "      <th></th>\n",
       "      <th></th>\n",
       "    </tr>\n",
       "  </thead>\n",
       "  <tbody>\n",
       "    <tr>\n",
       "      <th>Jetta Variant</th>\n",
       "      <td>Motor 4.0 Turbo</td>\n",
       "      <td>2003</td>\n",
       "      <td>44410.0</td>\n",
       "      <td>False</td>\n",
       "      <td>['Rodas de liga', 'Travas elétricas', 'Piloto ...</td>\n",
       "      <td>88078.64</td>\n",
       "    </tr>\n",
       "    <tr>\n",
       "      <th>Passat</th>\n",
       "      <td>Motor Diesel</td>\n",
       "      <td>1991</td>\n",
       "      <td>5712.0</td>\n",
       "      <td>False</td>\n",
       "      <td>['Central multimídia', 'Teto panorâmico', 'Fre...</td>\n",
       "      <td>106161.94</td>\n",
       "    </tr>\n",
       "    <tr>\n",
       "      <th>Crossfox</th>\n",
       "      <td>Motor Diesel V8</td>\n",
       "      <td>1990</td>\n",
       "      <td>37123.0</td>\n",
       "      <td>False</td>\n",
       "      <td>['Piloto automático', 'Controle de estabilidad...</td>\n",
       "      <td>72832.16</td>\n",
       "    </tr>\n",
       "    <tr>\n",
       "      <th>DS5</th>\n",
       "      <td>Motor 2.4 Turbo</td>\n",
       "      <td>2019</td>\n",
       "      <td>NaN</td>\n",
       "      <td>True</td>\n",
       "      <td>['Travas elétricas', '4 X 4', 'Vidros elétrico...</td>\n",
       "      <td>124549.07</td>\n",
       "    </tr>\n",
       "    <tr>\n",
       "      <th>Aston Martin DB4</th>\n",
       "      <td>Motor 2.4 Turbo</td>\n",
       "      <td>2006</td>\n",
       "      <td>25757.0</td>\n",
       "      <td>False</td>\n",
       "      <td>['Rodas de liga', '4 X 4', 'Central multimídia...</td>\n",
       "      <td>92612.10</td>\n",
       "    </tr>\n",
       "    <tr>\n",
       "      <th>...</th>\n",
       "      <td>...</td>\n",
       "      <td>...</td>\n",
       "      <td>...</td>\n",
       "      <td>...</td>\n",
       "      <td>...</td>\n",
       "      <td>...</td>\n",
       "    </tr>\n",
       "    <tr>\n",
       "      <th>Phantom 2013</th>\n",
       "      <td>Motor V8</td>\n",
       "      <td>2014</td>\n",
       "      <td>27505.0</td>\n",
       "      <td>False</td>\n",
       "      <td>['Controle de estabilidade', 'Piloto automátic...</td>\n",
       "      <td>51759.58</td>\n",
       "    </tr>\n",
       "    <tr>\n",
       "      <th>Cadillac Ciel concept</th>\n",
       "      <td>Motor V8</td>\n",
       "      <td>1991</td>\n",
       "      <td>29981.0</td>\n",
       "      <td>False</td>\n",
       "      <td>['Bancos de couro', 'Painel digital', 'Sensor ...</td>\n",
       "      <td>51667.06</td>\n",
       "    </tr>\n",
       "    <tr>\n",
       "      <th>Classe GLK</th>\n",
       "      <td>Motor 5.0 V8 Bi-Turbo</td>\n",
       "      <td>2002</td>\n",
       "      <td>52637.0</td>\n",
       "      <td>False</td>\n",
       "      <td>['Rodas de liga', 'Controle de tração', 'Câmbi...</td>\n",
       "      <td>68934.03</td>\n",
       "    </tr>\n",
       "    <tr>\n",
       "      <th>Aston Martin DB5</th>\n",
       "      <td>Motor Diesel</td>\n",
       "      <td>1996</td>\n",
       "      <td>7685.0</td>\n",
       "      <td>False</td>\n",
       "      <td>['Ar condicionado', '4 X 4', 'Câmbio automátic...</td>\n",
       "      <td>122110.90</td>\n",
       "    </tr>\n",
       "    <tr>\n",
       "      <th>Macan</th>\n",
       "      <td>Motor Diesel V6</td>\n",
       "      <td>1992</td>\n",
       "      <td>50188.0</td>\n",
       "      <td>False</td>\n",
       "      <td>['Central multimídia', 'Teto panorâmico', 'Vid...</td>\n",
       "      <td>90381.47</td>\n",
       "    </tr>\n",
       "  </tbody>\n",
       "</table>\n",
       "<p>258 rows × 6 columns</p>\n",
       "</div>"
      ],
      "text/plain": [
       "                                       Motor   Ano  Quilometragem  Zero_km  \\\n",
       "Nome                                                                         \n",
       "Jetta Variant                Motor 4.0 Turbo  2003        44410.0    False   \n",
       "Passat                          Motor Diesel  1991         5712.0    False   \n",
       "Crossfox                     Motor Diesel V8  1990        37123.0    False   \n",
       "DS5                          Motor 2.4 Turbo  2019            NaN     True   \n",
       "Aston Martin DB4             Motor 2.4 Turbo  2006        25757.0    False   \n",
       "...                                      ...   ...            ...      ...   \n",
       "Phantom 2013                        Motor V8  2014        27505.0    False   \n",
       "Cadillac Ciel concept               Motor V8  1991        29981.0    False   \n",
       "Classe GLK             Motor 5.0 V8 Bi-Turbo  2002        52637.0    False   \n",
       "Aston Martin DB5                Motor Diesel  1996         7685.0    False   \n",
       "Macan                        Motor Diesel V6  1992        50188.0    False   \n",
       "\n",
       "                                                              Acessórios  \\\n",
       "Nome                                                                       \n",
       "Jetta Variant          ['Rodas de liga', 'Travas elétricas', 'Piloto ...   \n",
       "Passat                 ['Central multimídia', 'Teto panorâmico', 'Fre...   \n",
       "Crossfox               ['Piloto automático', 'Controle de estabilidad...   \n",
       "DS5                    ['Travas elétricas', '4 X 4', 'Vidros elétrico...   \n",
       "Aston Martin DB4       ['Rodas de liga', '4 X 4', 'Central multimídia...   \n",
       "...                                                                  ...   \n",
       "Phantom 2013           ['Controle de estabilidade', 'Piloto automátic...   \n",
       "Cadillac Ciel concept  ['Bancos de couro', 'Painel digital', 'Sensor ...   \n",
       "Classe GLK             ['Rodas de liga', 'Controle de tração', 'Câmbi...   \n",
       "Aston Martin DB5       ['Ar condicionado', '4 X 4', 'Câmbio automátic...   \n",
       "Macan                  ['Central multimídia', 'Teto panorâmico', 'Vid...   \n",
       "\n",
       "                           Valor  \n",
       "Nome                              \n",
       "Jetta Variant           88078.64  \n",
       "Passat                 106161.94  \n",
       "Crossfox                72832.16  \n",
       "DS5                    124549.07  \n",
       "Aston Martin DB4        92612.10  \n",
       "...                          ...  \n",
       "Phantom 2013            51759.58  \n",
       "Cadillac Ciel concept   51667.06  \n",
       "Classe GLK              68934.03  \n",
       "Aston Martin DB5       122110.90  \n",
       "Macan                   90381.47  \n",
       "\n",
       "[258 rows x 6 columns]"
      ]
     },
     "execution_count": 55,
     "metadata": {},
     "output_type": "execute_result"
    }
   ],
   "source": [
    "carros = pd.read_csv('db.csv', sep=';', index_col='Nome')\n",
    "carros"
   ]
  }
 ],
 "metadata": {
  "kernelspec": {
   "display_name": "Python 3 (ipykernel)",
   "language": "python",
   "name": "python3"
  },
  "language_info": {
   "codemirror_mode": {
    "name": "ipython",
    "version": 3
   },
   "file_extension": ".py",
   "mimetype": "text/x-python",
   "name": "python",
   "nbconvert_exporter": "python",
   "pygments_lexer": "ipython3",
   "version": "3.11.2"
  }
 },
 "nbformat": 4,
 "nbformat_minor": 5
}
